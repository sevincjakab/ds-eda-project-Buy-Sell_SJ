{
 "cells": [
  {
   "attachments": {},
   "cell_type": "markdown",
   "metadata": {},
   "source": [
    "1- copy the repo from the link, clone it to local  \n",
    "2- read through README to set things on Terminal, do the .env which is required to connect to the database  \n",
    "3- check the other files in the repo (especially:https://www.kaggle.com/code/ekami66/detailed-exploratory-data-analysis-with-python/notebook)  \n",
    "4- Go to DBeaver, get familiar with data: write SQL  \n",
    "5- Once done with writing SQL queries in DBeaver, put SQL queries to python file '1_Fetching_the_data_eda' and run. \n",
    "\n",
    "read: https://www.kaggle.com/code/ekami66/detailed-exploratory-data-analysis-with-python/notebook"
   ]
  }
 ],
 "metadata": {
  "kernelspec": {
   "display_name": ".venv",
   "language": "python",
   "name": "python3"
  },
  "language_info": {
   "codemirror_mode": {
    "name": "ipython",
    "version": 3
   },
   "file_extension": ".py",
   "mimetype": "text/x-python",
   "name": "python",
   "nbconvert_exporter": "python",
   "pygments_lexer": "ipython3",
   "version": "3.11.3"
  },
  "orig_nbformat": 4
 },
 "nbformat": 4,
 "nbformat_minor": 2
}
